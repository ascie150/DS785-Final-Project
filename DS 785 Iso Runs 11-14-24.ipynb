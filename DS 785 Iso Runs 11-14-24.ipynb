{
 "cells": [
  {
   "cell_type": "code",
   "execution_count": 1,
   "id": "cf42df28",
   "metadata": {},
   "outputs": [],
   "source": [
    "import timeit\n",
    "import pandas as pd\n",
    "from pandas.plotting import scatter_matrix\n",
    "import numpy as np\n",
    "\n",
    "\n",
    "import matplotlib\n",
    "import matplotlib.pyplot as plt\n",
    "import matplotlib.lines as mlines\n",
    "import seaborn as sns\n",
    "\n",
    "import boto3\n",
    "import awswrangler as wr\n",
    "\n",
    "from sklearn.ensemble import IsolationForest\n",
    "#from sklearn.svm import OneClassSVM\n",
    "#from sklearn.neighbors import LocalOutlierFactor\n",
    "#from sklearn.inspection import DecisionBoundaryDisplay\n",
    "#from sklearn.preprocessing import StandardScaler\n",
    "from sklearn.preprocessing import OneHotEncoder\n",
    "\n",
    "from mpl_toolkits.mplot3d import Axes3D"
   ]
  },
  {
   "cell_type": "code",
   "execution_count": 2,
   "id": "bac8385e",
   "metadata": {},
   "outputs": [],
   "source": [
    "boto3.setup_default_session(profile_name='datasci')"
   ]
  },
  {
   "cell_type": "code",
   "execution_count": 3,
   "id": "d2433353",
   "metadata": {},
   "outputs": [],
   "source": [
    "q = f\"\"\"\n",
    "SELECT post_evar3, browser_type, OS as brows_os, page_event_var2, missing_prod_view, page_error, excluded_hit_error\n",
    "    , visit_num, hit_time_gmt, page_load_time, sum(error_pv_factor + page_error_factor + page_load_time_factor + excluded_hit_error_factor) as error_factor\n",
    "FROM (\n",
    "SELECT case when post_evar3 is not null then post_evar3 else 'None' end as post_evar3\n",
    "    , case when b_type.col1 is not null then b_type.col1 else 'None' end as browser_type\n",
    "    , case when os.col1 is not null then os.col1 else 'None' end as OS\n",
    "    , case when post_page_event_var2 is not null then post_page_event_var2 else 'None' end as page_event_var2\n",
    "    , case when post_event_list not like '%,201,%' then 1 else 0 end as missing_prod_view\n",
    "    , case when post_event_list like '%,203,%' then 1 else 0 end as page_error\n",
    "    , case when exclude_hit = '0' then 0 else 1 end as excluded_hit_error\n",
    "    , visit_num, visit_page_num, hit_time_gmt, try_cast(post_prop68 as bigint) as page_load_time\n",
    "    \n",
    "    , case when post_event_list like '%,201,%' then 0 else 10 end as error_pv_factor\n",
    "    , case when exclude_hit = '0' then 0 else 10 end as excluded_hit_error_factor\n",
    "    , case when post_event_list not like '%,203,%' then 0 else 1000 end as page_error_factor\n",
    "    , case when try_cast(post_prop68 as bigint) > 15000 then 100 else 0 end as page_load_time_factor\n",
    "FROM \"us_clickstream_prod\".\"daily\" \n",
    "left join \"us_clickstream_prod\".\"browser_type\" as b_type\n",
    "    on try_cast(daily.browser as bigint) = b_type.col0\n",
    "left join \"us_clickstream_prod\".\"operating_systems\" as os\n",
    "    on try_cast(daily.os as bigint) = os.col0\n",
    "where page_url like 'https://www.landsend.com/products/%'\n",
    "    and post_prop68 is not null\n",
    "    and try_cast(post_prop68 as bigint) < 30000\n",
    "    and year = '2024'\n",
    "    and month = '10' \n",
    "    and day = '8'\n",
    ")\n",
    "group by 1,2,3,4,5,6,7,8,9,10\n",
    "\"\"\""
   ]
  },
  {
   "cell_type": "code",
   "execution_count": 4,
   "id": "46f3175d",
   "metadata": {},
   "outputs": [],
   "source": [
    "df = wr.athena.read_sql_query(\n",
    "    q,\n",
    "    database=\"us_clickstream_prod\", \n",
    "    s3_output = \"s3://lerawzone/users/acscies/athena/\"\n",
    ")"
   ]
  },
  {
   "cell_type": "code",
   "execution_count": 5,
   "id": "06a20f61",
   "metadata": {},
   "outputs": [
    {
     "name": "stdout",
     "output_type": "stream",
     "text": [
      "The outlier fraction before inserting anomolies is:\n"
     ]
    },
    {
     "data": {
      "text/plain": [
       "0.006029541765694742"
      ]
     },
     "execution_count": 5,
     "metadata": {},
     "output_type": "execute_result"
    }
   ],
   "source": [
    "starting_outlier_prct = df.query('error_factor > 0')['error_factor'].count() / df['error_factor'].count()\n",
    "print(\"The outlier fraction before inserting anomolies is:\")\n",
    "starting_outlier_prct"
   ]
  },
  {
   "cell_type": "code",
   "execution_count": 6,
   "id": "73a6619e",
   "metadata": {},
   "outputs": [],
   "source": [
    "min_hit_time = df['hit_time_gmt'].min() "
   ]
  },
  {
   "cell_type": "code",
   "execution_count": 7,
   "id": "935897ad",
   "metadata": {},
   "outputs": [],
   "source": [
    "#To insert some errors into the dataset and create simulation  \n",
    "df_append = pd.DataFrame(columns=[\"post_evar3\", \"browser_type\", \"brows_os\", \"page_event_var2\",\n",
    "                                  \"missing_prod_view\", \"page_error\", \"excluded_hit_error\",\n",
    "                                 \"visit_num\", \"hit_time_gmt\", \"page_load_time\", \"error_factor\"], dtype=\"int\")\n",
    "for i in range(10000):\n",
    "    hit_time_gmt = (min_hit_time + i)\n",
    "    df_values = ['external campaign', 'Google', 'None', 'None', 1, 1, 1, 1, hit_time_gmt, 35000, 999] \n",
    "    df_append.loc[len(df_append.index)] = df_values"
   ]
  },
  {
   "cell_type": "code",
   "execution_count": 8,
   "id": "33175cab",
   "metadata": {},
   "outputs": [],
   "source": [
    "df = pd.concat([df, df_append])"
   ]
  },
  {
   "cell_type": "code",
   "execution_count": 9,
   "id": "99621e4f",
   "metadata": {},
   "outputs": [
    {
     "data": {
      "text/html": [
       "<div>\n",
       "<style scoped>\n",
       "    .dataframe tbody tr th:only-of-type {\n",
       "        vertical-align: middle;\n",
       "    }\n",
       "\n",
       "    .dataframe tbody tr th {\n",
       "        vertical-align: top;\n",
       "    }\n",
       "\n",
       "    .dataframe thead th {\n",
       "        text-align: right;\n",
       "    }\n",
       "</style>\n",
       "<table border=\"1\" class=\"dataframe\">\n",
       "  <thead>\n",
       "    <tr style=\"text-align: right;\">\n",
       "      <th></th>\n",
       "      <th>post_evar3</th>\n",
       "      <th>browser_type</th>\n",
       "      <th>brows_os</th>\n",
       "      <th>page_event_var2</th>\n",
       "      <th>missing_prod_view</th>\n",
       "      <th>page_error</th>\n",
       "      <th>excluded_hit_error</th>\n",
       "      <th>visit_num</th>\n",
       "      <th>hit_time_gmt</th>\n",
       "      <th>page_load_time</th>\n",
       "      <th>error_factor</th>\n",
       "    </tr>\n",
       "  </thead>\n",
       "  <tbody>\n",
       "    <tr>\n",
       "      <th>9995</th>\n",
       "      <td>external campaign</td>\n",
       "      <td>Google</td>\n",
       "      <td>None</td>\n",
       "      <td>None</td>\n",
       "      <td>1</td>\n",
       "      <td>1</td>\n",
       "      <td>1</td>\n",
       "      <td>1</td>\n",
       "      <td>1728373595</td>\n",
       "      <td>35000</td>\n",
       "      <td>999</td>\n",
       "    </tr>\n",
       "    <tr>\n",
       "      <th>9996</th>\n",
       "      <td>external campaign</td>\n",
       "      <td>Google</td>\n",
       "      <td>None</td>\n",
       "      <td>None</td>\n",
       "      <td>1</td>\n",
       "      <td>1</td>\n",
       "      <td>1</td>\n",
       "      <td>1</td>\n",
       "      <td>1728373596</td>\n",
       "      <td>35000</td>\n",
       "      <td>999</td>\n",
       "    </tr>\n",
       "    <tr>\n",
       "      <th>9997</th>\n",
       "      <td>external campaign</td>\n",
       "      <td>Google</td>\n",
       "      <td>None</td>\n",
       "      <td>None</td>\n",
       "      <td>1</td>\n",
       "      <td>1</td>\n",
       "      <td>1</td>\n",
       "      <td>1</td>\n",
       "      <td>1728373597</td>\n",
       "      <td>35000</td>\n",
       "      <td>999</td>\n",
       "    </tr>\n",
       "    <tr>\n",
       "      <th>9998</th>\n",
       "      <td>external campaign</td>\n",
       "      <td>Google</td>\n",
       "      <td>None</td>\n",
       "      <td>None</td>\n",
       "      <td>1</td>\n",
       "      <td>1</td>\n",
       "      <td>1</td>\n",
       "      <td>1</td>\n",
       "      <td>1728373598</td>\n",
       "      <td>35000</td>\n",
       "      <td>999</td>\n",
       "    </tr>\n",
       "    <tr>\n",
       "      <th>9999</th>\n",
       "      <td>external campaign</td>\n",
       "      <td>Google</td>\n",
       "      <td>None</td>\n",
       "      <td>None</td>\n",
       "      <td>1</td>\n",
       "      <td>1</td>\n",
       "      <td>1</td>\n",
       "      <td>1</td>\n",
       "      <td>1728373599</td>\n",
       "      <td>35000</td>\n",
       "      <td>999</td>\n",
       "    </tr>\n",
       "  </tbody>\n",
       "</table>\n",
       "</div>"
      ],
      "text/plain": [
       "             post_evar3 browser_type brows_os page_event_var2  \\\n",
       "9995  external campaign       Google     None            None   \n",
       "9996  external campaign       Google     None            None   \n",
       "9997  external campaign       Google     None            None   \n",
       "9998  external campaign       Google     None            None   \n",
       "9999  external campaign       Google     None            None   \n",
       "\n",
       "      missing_prod_view  page_error  excluded_hit_error  visit_num  \\\n",
       "9995                  1           1                   1          1   \n",
       "9996                  1           1                   1          1   \n",
       "9997                  1           1                   1          1   \n",
       "9998                  1           1                   1          1   \n",
       "9999                  1           1                   1          1   \n",
       "\n",
       "      hit_time_gmt  page_load_time  error_factor  \n",
       "9995    1728373595           35000           999  \n",
       "9996    1728373596           35000           999  \n",
       "9997    1728373597           35000           999  \n",
       "9998    1728373598           35000           999  \n",
       "9999    1728373599           35000           999  "
      ]
     },
     "execution_count": 9,
     "metadata": {},
     "output_type": "execute_result"
    }
   ],
   "source": [
    "df.reset_index()\n",
    "df.tail()"
   ]
  },
  {
   "cell_type": "code",
   "execution_count": 10,
   "id": "b71910f5",
   "metadata": {},
   "outputs": [
    {
     "data": {
      "text/plain": [
       "False"
      ]
     },
     "execution_count": 10,
     "metadata": {},
     "output_type": "execute_result"
    }
   ],
   "source": [
    "df.isnull().values.any()"
   ]
  },
  {
   "cell_type": "code",
   "execution_count": 11,
   "id": "1c48ffa1",
   "metadata": {},
   "outputs": [
    {
     "name": "stdout",
     "output_type": "stream",
     "text": [
      "<class 'pandas.core.frame.DataFrame'>\n",
      "Int64Index: 1114064 entries, 0 to 9999\n",
      "Data columns (total 11 columns):\n",
      " #   Column              Non-Null Count    Dtype \n",
      "---  ------              --------------    ----- \n",
      " 0   post_evar3          1114064 non-null  object\n",
      " 1   browser_type        1114064 non-null  object\n",
      " 2   brows_os            1114064 non-null  object\n",
      " 3   page_event_var2     1114064 non-null  object\n",
      " 4   missing_prod_view   1114064 non-null  Int64 \n",
      " 5   page_error          1114064 non-null  Int64 \n",
      " 6   excluded_hit_error  1114064 non-null  Int64 \n",
      " 7   visit_num           1114064 non-null  Int64 \n",
      " 8   hit_time_gmt        1114064 non-null  Int64 \n",
      " 9   page_load_time      1114064 non-null  Int64 \n",
      " 10  error_factor        1114064 non-null  Int64 \n",
      "dtypes: Int64(7), object(4)\n",
      "memory usage: 109.4+ MB\n"
     ]
    }
   ],
   "source": [
    "df.info()"
   ]
  },
  {
   "cell_type": "code",
   "execution_count": 12,
   "id": "1a425aa9",
   "metadata": {},
   "outputs": [],
   "source": [
    "#drop columns that won't help\n",
    "df = df.drop(columns=['brows_os', 'post_evar3', 'page_event_var2'])"
   ]
  },
  {
   "cell_type": "code",
   "execution_count": 13,
   "id": "03b73d20",
   "metadata": {},
   "outputs": [
    {
     "data": {
      "text/html": [
       "<div>\n",
       "<style scoped>\n",
       "    .dataframe tbody tr th:only-of-type {\n",
       "        vertical-align: middle;\n",
       "    }\n",
       "\n",
       "    .dataframe tbody tr th {\n",
       "        vertical-align: top;\n",
       "    }\n",
       "\n",
       "    .dataframe thead th {\n",
       "        text-align: right;\n",
       "    }\n",
       "</style>\n",
       "<table border=\"1\" class=\"dataframe\">\n",
       "  <thead>\n",
       "    <tr style=\"text-align: right;\">\n",
       "      <th></th>\n",
       "      <th>browser_type</th>\n",
       "      <th>page_load_time</th>\n",
       "      <th>visit_num</th>\n",
       "      <th>hit_time_gmt</th>\n",
       "      <th>page_error</th>\n",
       "      <th>excluded_hit_error</th>\n",
       "      <th>visit_num</th>\n",
       "      <th>error_factor</th>\n",
       "    </tr>\n",
       "  </thead>\n",
       "  <tbody>\n",
       "    <tr>\n",
       "      <th>0</th>\n",
       "      <td>Google</td>\n",
       "      <td>5522</td>\n",
       "      <td>9</td>\n",
       "      <td>1728415086</td>\n",
       "      <td>0</td>\n",
       "      <td>0</td>\n",
       "      <td>9</td>\n",
       "      <td>0</td>\n",
       "    </tr>\n",
       "    <tr>\n",
       "      <th>1</th>\n",
       "      <td>None</td>\n",
       "      <td>597</td>\n",
       "      <td>169</td>\n",
       "      <td>1728424689</td>\n",
       "      <td>0</td>\n",
       "      <td>0</td>\n",
       "      <td>169</td>\n",
       "      <td>0</td>\n",
       "    </tr>\n",
       "    <tr>\n",
       "      <th>2</th>\n",
       "      <td>None</td>\n",
       "      <td>4156</td>\n",
       "      <td>1</td>\n",
       "      <td>1728429198</td>\n",
       "      <td>0</td>\n",
       "      <td>0</td>\n",
       "      <td>1</td>\n",
       "      <td>0</td>\n",
       "    </tr>\n",
       "    <tr>\n",
       "      <th>3</th>\n",
       "      <td>Mozilla</td>\n",
       "      <td>7436</td>\n",
       "      <td>1</td>\n",
       "      <td>1728366783</td>\n",
       "      <td>0</td>\n",
       "      <td>0</td>\n",
       "      <td>1</td>\n",
       "      <td>0</td>\n",
       "    </tr>\n",
       "    <tr>\n",
       "      <th>4</th>\n",
       "      <td>Google</td>\n",
       "      <td>1239</td>\n",
       "      <td>2</td>\n",
       "      <td>1728404131</td>\n",
       "      <td>0</td>\n",
       "      <td>0</td>\n",
       "      <td>2</td>\n",
       "      <td>0</td>\n",
       "    </tr>\n",
       "  </tbody>\n",
       "</table>\n",
       "</div>"
      ],
      "text/plain": [
       "  browser_type  page_load_time  visit_num  hit_time_gmt  page_error  \\\n",
       "0       Google            5522          9    1728415086           0   \n",
       "1         None             597        169    1728424689           0   \n",
       "2         None            4156          1    1728429198           0   \n",
       "3      Mozilla            7436          1    1728366783           0   \n",
       "4       Google            1239          2    1728404131           0   \n",
       "\n",
       "   excluded_hit_error  visit_num  error_factor  \n",
       "0                   0          9             0  \n",
       "1                   0        169             0  \n",
       "2                   0          1             0  \n",
       "3                   0          1             0  \n",
       "4                   0          2             0  "
      ]
     },
     "execution_count": 13,
     "metadata": {},
     "output_type": "execute_result"
    }
   ],
   "source": [
    "#create testing DF \n",
    "auto_forest_df = df[['browser_type', 'page_load_time', 'visit_num', 'hit_time_gmt',\n",
    "                'page_error', 'excluded_hit_error', 'visit_num',  'error_factor']]\n",
    "\n",
    "\n",
    "auto_forest_df.head()"
   ]
  },
  {
   "cell_type": "code",
   "execution_count": 14,
   "id": "accedc9c",
   "metadata": {},
   "outputs": [
    {
     "name": "stdout",
     "output_type": "stream",
     "text": [
      "Isolation Forest Using Auto for Contamination\n"
     ]
    }
   ],
   "source": [
    "print(\"Isolation Forest Using Auto for Contamination\")"
   ]
  },
  {
   "cell_type": "code",
   "execution_count": 15,
   "id": "40c53760",
   "metadata": {},
   "outputs": [],
   "source": [
    "auto_isoforest = auto_forest_df.drop(columns=['browser_type','error_factor'])"
   ]
  },
  {
   "cell_type": "code",
   "execution_count": 16,
   "id": "4ef06436",
   "metadata": {},
   "outputs": [
    {
     "name": "stderr",
     "output_type": "stream",
     "text": [
      "/tmp/ipykernel_439/1508105398.py:4: SettingWithCopyWarning: \n",
      "A value is trying to be set on a copy of a slice from a DataFrame.\n",
      "Try using .loc[row_indexer,col_indexer] = value instead\n",
      "\n",
      "See the caveats in the documentation: https://pandas.pydata.org/pandas-docs/stable/user_guide/indexing.html#returning-a-view-versus-a-copy\n",
      "  auto_forest_df['anomaly'] = auto_clf.predict(auto_isoforest)\n",
      "/tmp/ipykernel_439/1508105398.py:5: SettingWithCopyWarning: \n",
      "A value is trying to be set on a copy of a slice from a DataFrame.\n",
      "Try using .loc[row_indexer,col_indexer] = value instead\n",
      "\n",
      "See the caveats in the documentation: https://pandas.pydata.org/pandas-docs/stable/user_guide/indexing.html#returning-a-view-versus-a-copy\n",
      "  auto_forest_df['scores'] = auto_clf.decision_function(auto_isoforest)\n"
     ]
    }
   ],
   "source": [
    "#Test with contamination='auto'\n",
    "auto_clf=IsolationForest(contamination='auto', max_features=2, random_state=42)\n",
    "auto_clf.fit(auto_isoforest)\n",
    "auto_forest_df['anomaly'] = auto_clf.predict(auto_isoforest)\n",
    "auto_forest_df['scores'] = auto_clf.decision_function(auto_isoforest)"
   ]
  },
  {
   "cell_type": "code",
   "execution_count": 17,
   "id": "24d25c8b",
   "metadata": {},
   "outputs": [],
   "source": [
    "auto_counts = auto_forest_df.anomaly.value_counts()\n",
    "#True positive outliers\n",
    "auto_tp_outlier = auto_forest_df.query('error_factor > 0 and anomaly == -1')['error_factor'].count()\n",
    "#False positive outliers\n",
    "auto_fp_outlier = auto_forest_df.query('error_factor == 0 and anomaly == -1')['error_factor'].count()\n",
    "#True positive inliers\n",
    "auto_tp_inlier = auto_forest_df.query('error_factor == 0 and anomaly == 1')['error_factor'].count()\n",
    "#False positive inliers\n",
    "auto_fp_inlier = auto_forest_df.query('error_factor > 0 and anomaly == 1')['error_factor'].count()\n",
    "#Very strong anomoly true positive and false negative outliers\n",
    "auto_strong_tp_outlier = auto_forest_df.query('error_factor == 999 and anomaly == -1')['error_factor'].count()\n",
    "auto_strong_fp_inliers = auto_forest_df.query('error_factor == 999 and anomaly == 1')['error_factor'].count()"
   ]
  },
  {
   "cell_type": "code",
   "execution_count": 18,
   "id": "23c561e7",
   "metadata": {},
   "outputs": [
    {
     "name": "stdout",
     "output_type": "stream",
     "text": [
      "Isolation Forest Using outlier_prct Contamination\n"
     ]
    }
   ],
   "source": [
    "print(\"Isolation Forest Using outlier_prct Contamination\")"
   ]
  },
  {
   "cell_type": "code",
   "execution_count": 19,
   "id": "18339412",
   "metadata": {},
   "outputs": [
    {
     "data": {
      "text/html": [
       "<div>\n",
       "<style scoped>\n",
       "    .dataframe tbody tr th:only-of-type {\n",
       "        vertical-align: middle;\n",
       "    }\n",
       "\n",
       "    .dataframe tbody tr th {\n",
       "        vertical-align: top;\n",
       "    }\n",
       "\n",
       "    .dataframe thead th {\n",
       "        text-align: right;\n",
       "    }\n",
       "</style>\n",
       "<table border=\"1\" class=\"dataframe\">\n",
       "  <thead>\n",
       "    <tr style=\"text-align: right;\">\n",
       "      <th></th>\n",
       "      <th>browser_type</th>\n",
       "      <th>page_load_time</th>\n",
       "      <th>visit_num</th>\n",
       "      <th>hit_time_gmt</th>\n",
       "      <th>page_error</th>\n",
       "      <th>excluded_hit_error</th>\n",
       "      <th>visit_num</th>\n",
       "      <th>error_factor</th>\n",
       "    </tr>\n",
       "  </thead>\n",
       "  <tbody>\n",
       "    <tr>\n",
       "      <th>0</th>\n",
       "      <td>Google</td>\n",
       "      <td>5522</td>\n",
       "      <td>9</td>\n",
       "      <td>1728415086</td>\n",
       "      <td>0</td>\n",
       "      <td>0</td>\n",
       "      <td>9</td>\n",
       "      <td>0</td>\n",
       "    </tr>\n",
       "    <tr>\n",
       "      <th>1</th>\n",
       "      <td>None</td>\n",
       "      <td>597</td>\n",
       "      <td>169</td>\n",
       "      <td>1728424689</td>\n",
       "      <td>0</td>\n",
       "      <td>0</td>\n",
       "      <td>169</td>\n",
       "      <td>0</td>\n",
       "    </tr>\n",
       "    <tr>\n",
       "      <th>2</th>\n",
       "      <td>None</td>\n",
       "      <td>4156</td>\n",
       "      <td>1</td>\n",
       "      <td>1728429198</td>\n",
       "      <td>0</td>\n",
       "      <td>0</td>\n",
       "      <td>1</td>\n",
       "      <td>0</td>\n",
       "    </tr>\n",
       "    <tr>\n",
       "      <th>3</th>\n",
       "      <td>Mozilla</td>\n",
       "      <td>7436</td>\n",
       "      <td>1</td>\n",
       "      <td>1728366783</td>\n",
       "      <td>0</td>\n",
       "      <td>0</td>\n",
       "      <td>1</td>\n",
       "      <td>0</td>\n",
       "    </tr>\n",
       "    <tr>\n",
       "      <th>4</th>\n",
       "      <td>Google</td>\n",
       "      <td>1239</td>\n",
       "      <td>2</td>\n",
       "      <td>1728404131</td>\n",
       "      <td>0</td>\n",
       "      <td>0</td>\n",
       "      <td>2</td>\n",
       "      <td>0</td>\n",
       "    </tr>\n",
       "  </tbody>\n",
       "</table>\n",
       "</div>"
      ],
      "text/plain": [
       "  browser_type  page_load_time  visit_num  hit_time_gmt  page_error  \\\n",
       "0       Google            5522          9    1728415086           0   \n",
       "1         None             597        169    1728424689           0   \n",
       "2         None            4156          1    1728429198           0   \n",
       "3      Mozilla            7436          1    1728366783           0   \n",
       "4       Google            1239          2    1728404131           0   \n",
       "\n",
       "   excluded_hit_error  visit_num  error_factor  \n",
       "0                   0          9             0  \n",
       "1                   0        169             0  \n",
       "2                   0          1             0  \n",
       "3                   0          1             0  \n",
       "4                   0          2             0  "
      ]
     },
     "execution_count": 19,
     "metadata": {},
     "output_type": "execute_result"
    }
   ],
   "source": [
    "#create testing DF \n",
    "forest_df = df[['browser_type', 'page_load_time', 'visit_num', 'hit_time_gmt',\n",
    "                'page_error', 'excluded_hit_error', 'visit_num',  'error_factor']]\n",
    "\n",
    "\n",
    "forest_df.head()"
   ]
  },
  {
   "cell_type": "code",
   "execution_count": 20,
   "id": "db3d5fb5",
   "metadata": {},
   "outputs": [
    {
     "name": "stdout",
     "output_type": "stream",
     "text": [
      "The outlier fraction after inserting anomolies is:\n"
     ]
    },
    {
     "data": {
      "text/plain": [
       "0.014951564721595886"
      ]
     },
     "execution_count": 20,
     "metadata": {},
     "output_type": "execute_result"
    }
   ],
   "source": [
    "outlier_prct = df.query('error_factor > 0')['error_factor'].count() / df['error_factor'].count()\n",
    "print(\"The outlier fraction after inserting anomolies is:\")\n",
    "outlier_prct"
   ]
  },
  {
   "cell_type": "code",
   "execution_count": 21,
   "id": "c3e96039",
   "metadata": {},
   "outputs": [],
   "source": [
    "isoforest = forest_df.drop(columns=['browser_type','error_factor'])"
   ]
  },
  {
   "cell_type": "code",
   "execution_count": 22,
   "id": "80946f6c",
   "metadata": {},
   "outputs": [
    {
     "name": "stderr",
     "output_type": "stream",
     "text": [
      "/usr/local/lib/python3.8/site-packages/sklearn/base.py:450: UserWarning: X does not have valid feature names, but IsolationForest was fitted with feature names\n",
      "  warnings.warn(\n",
      "/tmp/ipykernel_439/2091488954.py:3: SettingWithCopyWarning: \n",
      "A value is trying to be set on a copy of a slice from a DataFrame.\n",
      "Try using .loc[row_indexer,col_indexer] = value instead\n",
      "\n",
      "See the caveats in the documentation: https://pandas.pydata.org/pandas-docs/stable/user_guide/indexing.html#returning-a-view-versus-a-copy\n",
      "  forest_df['anomaly'] = clf.predict(isoforest)\n",
      "/tmp/ipykernel_439/2091488954.py:4: SettingWithCopyWarning: \n",
      "A value is trying to be set on a copy of a slice from a DataFrame.\n",
      "Try using .loc[row_indexer,col_indexer] = value instead\n",
      "\n",
      "See the caveats in the documentation: https://pandas.pydata.org/pandas-docs/stable/user_guide/indexing.html#returning-a-view-versus-a-copy\n",
      "  forest_df['scores'] = clf.decision_function(isoforest)\n"
     ]
    }
   ],
   "source": [
    "clf=IsolationForest(contamination=outlier_prct, random_state=42)\n",
    "clf.fit(isoforest)\n",
    "forest_df['anomaly'] = clf.predict(isoforest)\n",
    "forest_df['scores'] = clf.decision_function(isoforest)"
   ]
  },
  {
   "cell_type": "code",
   "execution_count": 23,
   "id": "89c9e13f",
   "metadata": {},
   "outputs": [],
   "source": [
    "inlier, outlier = forest_df.loc[forest_df.anomaly==1], forest_df.loc[forest_df.anomaly==-1]"
   ]
  },
  {
   "cell_type": "code",
   "execution_count": 24,
   "id": "1f4f7057",
   "metadata": {},
   "outputs": [],
   "source": [
    "counts = forest_df.anomaly.value_counts()\n",
    "#True positive outliers\n",
    "tp_outlier = forest_df.query('error_factor > 0 and anomaly == -1')['error_factor'].count()\n",
    "#False positive outliers\n",
    "fp_outlier = forest_df.query('error_factor == 0 and anomaly == -1')['error_factor'].count()\n",
    "#True positive inliers\n",
    "tp_inlier = forest_df.query('error_factor == 0 and anomaly == 1')['error_factor'].count()\n",
    "#False positive inliers\n",
    "fp_inlier = forest_df.query('error_factor > 0 and anomaly == 1')['error_factor'].count()\n",
    "#Very strong anomoly true positive and false negative outliers\n",
    "strong_tp_outlier = forest_df.query('error_factor == 999 and anomaly == -1')['error_factor'].count()\n",
    "strong_fp_inliers = forest_df.query('error_factor == 999 and anomaly == 1')['error_factor'].count()"
   ]
  },
  {
   "cell_type": "code",
   "execution_count": 25,
   "id": "1888a541",
   "metadata": {},
   "outputs": [
    {
     "name": "stdout",
     "output_type": "stream",
     "text": [
      "Actual pre-identified outliers:\n"
     ]
    },
    {
     "data": {
      "text/plain": [
       "16657"
      ]
     },
     "execution_count": 25,
     "metadata": {},
     "output_type": "execute_result"
    }
   ],
   "source": [
    "print(\"Actual pre-identified outliers:\")\n",
    "df.query('error_factor > 0')['error_factor'].count()"
   ]
  },
  {
   "cell_type": "code",
   "execution_count": 26,
   "id": "6e03209b",
   "metadata": {
    "scrolled": true
   },
   "outputs": [
    {
     "name": "stdout",
     "output_type": "stream",
     "text": [
      "auto_counts:\n",
      " 1    1012046\n",
      "-1     102018\n",
      "Name: anomaly, dtype: int64\n",
      "\n",
      "auto tp outlier and fp outlier:\n",
      "12019\n",
      "89999\n",
      "\n",
      "auto tp inlier and fp inlier:\n",
      "1007408\n",
      "4638\n",
      "\n",
      "auto strong tp outlier and FP inliers:\n",
      "10000\n",
      "0\n"
     ]
    }
   ],
   "source": [
    "print(\"auto_counts:\")\n",
    "print(auto_counts)\n",
    "print(\"\\nauto tp outlier and fp outlier:\")\n",
    "print(auto_tp_outlier)\n",
    "print(auto_fp_outlier)\n",
    "print(\"\\nauto tp inlier and fp inlier:\")\n",
    "print(auto_tp_inlier)\n",
    "print(auto_fp_inlier)\n",
    "print(\"\\nauto strong tp outlier and FP inliers:\")\n",
    "print(auto_strong_tp_outlier)\n",
    "print(auto_strong_fp_inliers)"
   ]
  },
  {
   "cell_type": "code",
   "execution_count": 27,
   "id": "31c86851",
   "metadata": {},
   "outputs": [
    {
     "name": "stdout",
     "output_type": "stream",
     "text": [
      "counts:\n",
      " 1    1097411\n",
      "-1      16653\n",
      "Name: anomaly, dtype: int64\n",
      "\n",
      "tp outlier and fp outlier:\n",
      "10177\n",
      "6476\n",
      "\n",
      "tp inlier and fp inlier:\n",
      "1090931\n",
      "6480\n",
      "\n",
      "strong tp outlier and FP inliers:\n",
      "10000\n",
      "0\n"
     ]
    }
   ],
   "source": [
    "print(\"counts:\")\n",
    "print(counts)\n",
    "print(\"\\ntp outlier and fp outlier:\")\n",
    "print(tp_outlier)\n",
    "print(fp_outlier)\n",
    "print(\"\\ntp inlier and fp inlier:\")\n",
    "print(tp_inlier)\n",
    "print(fp_inlier)\n",
    "print(\"\\nstrong tp outlier and FP inliers:\")\n",
    "print(strong_tp_outlier)\n",
    "print(strong_fp_inliers)"
   ]
  },
  {
   "cell_type": "code",
   "execution_count": 28,
   "id": "7c2aae4e",
   "metadata": {},
   "outputs": [],
   "source": [
    "df_1 = forest_df.loc[:, ['browser_type', 'anomaly']]"
   ]
  },
  {
   "cell_type": "code",
   "execution_count": 29,
   "id": "b3b4930e",
   "metadata": {},
   "outputs": [
    {
     "data": {
      "text/html": [
       "<div>\n",
       "<style scoped>\n",
       "    .dataframe tbody tr th:only-of-type {\n",
       "        vertical-align: middle;\n",
       "    }\n",
       "\n",
       "    .dataframe tbody tr th {\n",
       "        vertical-align: top;\n",
       "    }\n",
       "\n",
       "    .dataframe thead th {\n",
       "        text-align: right;\n",
       "    }\n",
       "</style>\n",
       "<table border=\"1\" class=\"dataframe\">\n",
       "  <thead>\n",
       "    <tr style=\"text-align: right;\">\n",
       "      <th></th>\n",
       "      <th>anomaly</th>\n",
       "    </tr>\n",
       "    <tr>\n",
       "      <th>browser_type</th>\n",
       "      <th></th>\n",
       "    </tr>\n",
       "  </thead>\n",
       "  <tbody>\n",
       "    <tr>\n",
       "      <th>AOL</th>\n",
       "      <td>NaN</td>\n",
       "    </tr>\n",
       "    <tr>\n",
       "      <th>Amazon</th>\n",
       "      <td>NaN</td>\n",
       "    </tr>\n",
       "    <tr>\n",
       "      <th>Apple</th>\n",
       "      <td>0.002637</td>\n",
       "    </tr>\n",
       "    <tr>\n",
       "      <th>Google</th>\n",
       "      <td>0.043987</td>\n",
       "    </tr>\n",
       "    <tr>\n",
       "      <th>Microsoft</th>\n",
       "      <td>NaN</td>\n",
       "    </tr>\n",
       "    <tr>\n",
       "      <th>Mozilla</th>\n",
       "      <td>0.009520</td>\n",
       "    </tr>\n",
       "    <tr>\n",
       "      <th>None</th>\n",
       "      <td>0.007758</td>\n",
       "    </tr>\n",
       "    <tr>\n",
       "      <th>Opera</th>\n",
       "      <td>NaN</td>\n",
       "    </tr>\n",
       "    <tr>\n",
       "      <th>Other</th>\n",
       "      <td>NaN</td>\n",
       "    </tr>\n",
       "    <tr>\n",
       "      <th>Samsung</th>\n",
       "      <td>NaN</td>\n",
       "    </tr>\n",
       "  </tbody>\n",
       "</table>\n",
       "</div>"
      ],
      "text/plain": [
       "               anomaly\n",
       "browser_type          \n",
       "AOL                NaN\n",
       "Amazon             NaN\n",
       "Apple         0.002637\n",
       "Google        0.043987\n",
       "Microsoft          NaN\n",
       "Mozilla       0.009520\n",
       "None          0.007758\n",
       "Opera              NaN\n",
       "Other              NaN\n",
       "Samsung            NaN"
      ]
     },
     "execution_count": 29,
     "metadata": {},
     "output_type": "execute_result"
    }
   ],
   "source": [
    "#for anomoly % by browswer type\n",
    "df_1[df_1[\"anomaly\"]== -1].groupby('browser_type').count() / df_1[df_1[\"anomaly\"]== 1].groupby('browser_type').count()"
   ]
  },
  {
   "cell_type": "code",
   "execution_count": 30,
   "id": "6c7df99f",
   "metadata": {},
   "outputs": [
    {
     "data": {
      "image/png": "[encoded data removed]",
      "text/plain": [
       "<Figure size 600x600 with 1 Axes>"
      ]
     },
     "metadata": {
      "needs_background": "light"
     },
     "output_type": "display_data"
    }
   ],
   "source": [
    "plt.figure(figsize=(6, 6), dpi=100)\n",
    "plt.scatter(inlier.hit_time_gmt, inlier.page_load_time, label=\"inliers\", c =\"blue\")\n",
    "plt.scatter(outlier.hit_time_gmt, outlier.page_load_time, label=\"outliers\", c =\"red\")\n",
    "plt.ticklabel_format(style='plain')\n",
    "plt.ticklabel_format(useOffset=False)\n",
    "plt.show()"
   ]
  },
  {
   "cell_type": "code",
   "execution_count": null,
   "id": "b562299f",
   "metadata": {},
   "outputs": [],
   "source": []
  }
 ],
 "metadata": {
  "kernelspec": {
   "display_name": "Python 3 (ipykernel)",
   "language": "python",
   "name": "python3"
  },
  "language_info": {
   "codemirror_mode": {
    "name": "ipython",
    "version": 3
   },
   "file_extension": ".py",
   "mimetype": "text/x-python",
   "name": "python",
   "nbconvert_exporter": "python",
   "pygments_lexer": "ipython3",
   "version": "3.8.13"
  }
 },
 "nbformat": 4,
 "nbformat_minor": 5
}
